{
  "cells": [
    {
      "cell_type": "markdown",
      "metadata": {
        "id": "_avVIGTpvioI"
      },
      "source": [
        "# DX 704 Week 3 Project\n",
        "\n",
        "This week's project will give you practice with optimizing choices for bandit algorithms.\n",
        "You will be given access to the bandit problem via a blackbox object, and you will investigate the bandit rewards to pick a suitable algorithm."
      ]
    },
    {
      "cell_type": "markdown",
      "metadata": {
        "id": "ftRkegOQowWA"
      },
      "source": [
        "The full project description, a template notebook and supporting code are available on GitHub: [Project 3 Materials](https://github.com/bu-cds-dx704/dx704-project-03).\n"
      ]
    },
    {
      "cell_type": "markdown",
      "metadata": {
        "id": "-tPHvNSEdR6h"
      },
      "source": [
        "## Example Code\n",
        "\n",
        "You may find it helpful to refer to these GitHub repositories of Jupyter notebooks for example code.\n",
        "\n",
        "* https://github.com/bu-cds-omds/dx601-examples\n",
        "* https://github.com/bu-cds-omds/dx602-examples\n",
        "* https://github.com/bu-cds-omds/dx603-examples\n",
        "* https://github.com/bu-cds-omds/dx704-examples\n",
        "\n",
        "Any calculations demonstrated in code examples or videos may be found in these notebooks, and you are allowed to copy this example code in your homework answers."
      ]
    },
    {
      "cell_type": "markdown",
      "metadata": {
        "id": "b6VKDAEY8JMI"
      },
      "source": [
        "## Part 1: Pick a Bandit Algorithm\n",
        "\n",
        "Experiment with the multi-armed bandit interface using seed 0 to learn about the distribution of rewards and decide what kind of bandit algorithm will be appropriate.\n",
        "A histogram will likely be helpful."
      ]
    },
    {
      "cell_type": "code",
      "execution_count": 85,
      "metadata": {
        "id": "BCggNE7NpiQN"
      },
      "outputs": [],
      "source": [
        "# DO NOT CHANGE\n",
        "\n",
        "import numpy as np\n",
        "\n",
        "class BanditProblem(object):\n",
        "    def __init__(self, seed):\n",
        "        self.seed = seed\n",
        "        self.rng = np.random.default_rng(seed)\n",
        "\n",
        "        self.num_arms = 3\n",
        "        self.ns = self.rng.integers(low=1, high=10, size=self.num_arms)\n",
        "        self.ps = self.rng.uniform(low=0.2, high=0.4, size=self.num_arms)\n",
        "\n",
        "    def get_num_arms(self):\n",
        "        return self.num_arms\n",
        "\n",
        "    def get_reward(self, arm):\n",
        "        if arm < 0 or arm >= self.num_arms:\n",
        "            raise ValueError(\"Invalid arm\")\n",
        "\n",
        "        x = self.rng.uniform()\n",
        "        x *= self.rng.binomial(self.ns[arm], self.ps[arm])\n",
        "\n",
        "        return x\n"
      ]
    },
    {
      "cell_type": "code",
      "execution_count": 86,
      "metadata": {
        "id": "X99ZQUyhpgak"
      },
      "outputs": [],
      "source": [
        "bandit0 = BanditProblem(0)"
      ]
    },
    {
      "cell_type": "code",
      "execution_count": 87,
      "metadata": {
        "id": "frDtVjt4qATJ"
      },
      "outputs": [
        {
          "data": {
            "text/plain": [
              "3"
            ]
          },
          "execution_count": 87,
          "metadata": {},
          "output_type": "execute_result"
        }
      ],
      "source": [
        "bandit0.get_num_arms()"
      ]
    },
    {
      "cell_type": "code",
      "execution_count": 88,
      "metadata": {
        "id": "sdM9Ec3HqC6h"
      },
      "outputs": [
        {
          "data": {
            "text/plain": [
              "1.8255111545554434"
            ]
          },
          "execution_count": 88,
          "metadata": {},
          "output_type": "execute_result"
        }
      ],
      "source": [
        "bandit0.get_reward(arm=0)"
      ]
    },
    {
      "cell_type": "code",
      "execution_count": 89,
      "metadata": {
        "id": "iuQ0jCr_plcZ"
      },
      "outputs": [
        {
          "name": "stdout",
          "output_type": "stream",
          "text": [
            "Reward summary (seed 0):\n"
          ]
        },
        {
          "data": {
            "text/html": [
              "<div>\n",
              "<style scoped>\n",
              "    .dataframe tbody tr th:only-of-type {\n",
              "        vertical-align: middle;\n",
              "    }\n",
              "\n",
              "    .dataframe tbody tr th {\n",
              "        vertical-align: top;\n",
              "    }\n",
              "\n",
              "    .dataframe thead th {\n",
              "        text-align: right;\n",
              "    }\n",
              "</style>\n",
              "<table border=\"1\" class=\"dataframe\">\n",
              "  <thead>\n",
              "    <tr style=\"text-align: right;\">\n",
              "      <th></th>\n",
              "      <th>arm</th>\n",
              "      <th>mean</th>\n",
              "      <th>std</th>\n",
              "      <th>min</th>\n",
              "      <th>p50</th>\n",
              "      <th>p95</th>\n",
              "      <th>max</th>\n",
              "    </tr>\n",
              "  </thead>\n",
              "  <tbody>\n",
              "    <tr>\n",
              "      <th>0</th>\n",
              "      <td>0</td>\n",
              "      <td>0.8319</td>\n",
              "      <td>0.8187</td>\n",
              "      <td>0.0</td>\n",
              "      <td>0.6417</td>\n",
              "      <td>2.5001</td>\n",
              "      <td>6.7825</td>\n",
              "    </tr>\n",
              "    <tr>\n",
              "      <th>1</th>\n",
              "      <td>1</td>\n",
              "      <td>0.6068</td>\n",
              "      <td>0.6743</td>\n",
              "      <td>0.0</td>\n",
              "      <td>0.4339</td>\n",
              "      <td>1.9236</td>\n",
              "      <td>4.8232</td>\n",
              "    </tr>\n",
              "    <tr>\n",
              "      <th>2</th>\n",
              "      <td>2</td>\n",
              "      <td>0.9043</td>\n",
              "      <td>0.8199</td>\n",
              "      <td>0.0</td>\n",
              "      <td>0.7105</td>\n",
              "      <td>2.5784</td>\n",
              "      <td>4.9981</td>\n",
              "    </tr>\n",
              "  </tbody>\n",
              "</table>\n",
              "</div>"
            ],
            "text/plain": [
              "   arm    mean     std  min     p50     p95     max\n",
              "0    0  0.8319  0.8187  0.0  0.6417  2.5001  6.7825\n",
              "1    1  0.6068  0.6743  0.0  0.4339  1.9236  4.8232\n",
              "2    2  0.9043  0.8199  0.0  0.7105  2.5784  4.9981"
            ]
          },
          "metadata": {},
          "output_type": "display_data"
        },
        {
          "data": {
            "image/png": "[encoded data removed]",
            "text/plain": [
              "<Figure size 700x450 with 1 Axes>"
            ]
          },
          "metadata": {},
          "output_type": "display_data"
        },
        {
          "name": "stdout",
          "output_type": "stream",
          "text": [
            "Wrote algorithm-choice.txt\n"
          ]
        }
      ],
      "source": [
        "# YOUR CHANGES HERE\n",
        "\n",
        "\n",
        "import numpy as np\n",
        "import pandas as pd\n",
        "import matplotlib.pyplot as plt\n",
        "\n",
        "\n",
        "K = bandit0.get_num_arms()\n",
        "\n",
        "N = 20000\n",
        "samples = {a: np.array([bandit0.get_reward(a) for _ in range(N)], dtype=float) for a in range(K)}\n",
        "\n",
        "# The summary table\n",
        "summary = pd.DataFrame(\n",
        "    [{\"arm\": a,\n",
        "      \"mean\": v.mean(),\n",
        "      \"std\": v.std(ddof=1),\n",
        "      \"min\": v.min(),\n",
        "      \"p50\": np.percentile(v, 50),\n",
        "      \"p95\": np.percentile(v, 95),\n",
        "      \"max\": v.max()} for a, v in samples.items()]\n",
        ").round(4)\n",
        "print(\"Reward summary (seed 0):\")\n",
        "display(summary)\n",
        "\n",
        "# histograms\n",
        "plt.figure(figsize=(7, 4.5))\n",
        "for a, v in samples.items():\n",
        "    plt.hist(v, bins=60, alpha=0.5, density=True, label=f\"arm {a}\")\n",
        "plt.xlabel(\"reward\"); plt.ylabel(\"density\")\n",
        "plt.title(\"Seed 0: reward distributions by arm\")\n",
        "plt.legend(); plt.show()\n",
        "\n",
        "# Sentences justifying my choice and rejecting the alternatives\n",
        "choice_text = (\n",
        "    \"Algorithm choice: UCB1.\"\n",
        "    \"Why I choose to use this: The rewards are steady over time and have an upper limit. \"\n",
        "    \"UCB1 works well and doesn’t need any tuning. It tries all arms, \"\n",
        "    \"then keeps picking the one that looks best while still giving a little bonus \"\n",
        "    \"to arms we’re less sure about.\"\n",
        "    \"Why I choose to not use others: ε-greedy and softmax need knobs to tune  \"\n",
        "    \"and can do poorly if those are set badly. Thompson sampling needs a good \"\n",
        "    \"probability model for the rewards, which is extra complexity here.\"\n",
        "    \"Bottom line: I beleive UCB1 is the simplest, reliable choice for these bounded rewards.\"\n",
        ")\n",
        "with open(\"algorithm-choice.txt\", \"w\") as f:\n",
        "    f.write(choice_text)\n",
        "print(\"Wrote algorithm-choice.txt\")\n"
      ]
    },
    {
      "cell_type": "markdown",
      "metadata": {
        "id": "s4-3KtNXtzlY"
      },
      "source": [
        "Based on your investigation, pick an appropriate bandit algorithm to implement from the algorithms covered this week.\n",
        "Write a file \"algorithm-choice.txt\" that states your choice and gives a few sentences justifying your choice and rejecting the alternatives.\n",
        "Keep your explanation concise; overly verbose responses will be penalized."
      ]
    },
    {
      "cell_type": "markdown",
      "metadata": {
        "id": "lY_xvfK4rN0C"
      },
      "source": [
        "## Part 2: Implement Bandit\n",
        "\n",
        "Based on your decision, implement an appropriate bandit algorithm and pick 1000 actions using seed 2025002."
      ]
    },
    {
      "cell_type": "code",
      "execution_count": 90,
      "metadata": {
        "id": "kufc5pAPrWTT"
      },
      "outputs": [],
      "source": [
        "# YOUR CHANGES HERE\n",
        "\n",
        "\n",
        "import numpy as np\n",
        "import pandas as pd\n",
        "\n",
        "def run_ucb1(seed: int = 2025002, T: int = 1000, B: float = 9.0):\n",
        "    bandit = BanditProblem(seed)\n",
        "    K = bandit.get_num_arms()\n",
        "\n",
        "    rng = np.random.default_rng(seed + 7)   \n",
        "\n",
        "    actions, rewards = [], []\n",
        "    counts = np.zeros(K, dtype=int)\n",
        "    sum_scaled = np.zeros(K, dtype=float)   \n",
        "\n",
        "    for a in range(K):\n",
        "        r = bandit.get_reward(a)\n",
        "        counts[a] += 1\n",
        "        sum_scaled[a] += min(r / B, 1.0)\n",
        "        actions.append(a)\n",
        "        rewards.append(r)\n",
        "\n",
        "    # UCB1 loop\n",
        "    for t in range(K, T):\n",
        "        t1 = t + 1.0\n",
        "        avg = sum_scaled / counts\n",
        "        bonus = np.sqrt(2.0 * np.log(t1) / counts)\n",
        "        ucb = avg + bonus\n",
        "\n",
        "        best = np.flatnonzero(ucb == ucb.max())\n",
        "        a = int(rng.choice(best))\n",
        "\n",
        "        r = bandit.get_reward(a)\n",
        "        counts[a] += 1\n",
        "        sum_scaled[a] += min(r / B, 1.0)\n",
        "        actions.append(a)\n",
        "        rewards.append(r)\n",
        "\n",
        "    return pd.DataFrame({\"action\": actions, \"reward\": rewards})\n",
        "\n",
        "\n"
      ]
    },
    {
      "cell_type": "markdown",
      "metadata": {
        "id": "Ho9QihatrZqy"
      },
      "source": [
        "Write a file \"history.tsv\" with columns action and reward in the order that the actions were taken."
      ]
    },
    {
      "cell_type": "code",
      "execution_count": 91,
      "metadata": {
        "id": "OsiU7S1XrX0q"
      },
      "outputs": [
        {
          "name": "stdout",
          "output_type": "stream",
          "text": [
            "Saved history.tsv with 1000 rows.\n"
          ]
        },
        {
          "data": {
            "text/html": [
              "<div>\n",
              "<style scoped>\n",
              "    .dataframe tbody tr th:only-of-type {\n",
              "        vertical-align: middle;\n",
              "    }\n",
              "\n",
              "    .dataframe tbody tr th {\n",
              "        vertical-align: top;\n",
              "    }\n",
              "\n",
              "    .dataframe thead th {\n",
              "        text-align: right;\n",
              "    }\n",
              "</style>\n",
              "<table border=\"1\" class=\"dataframe\">\n",
              "  <thead>\n",
              "    <tr style=\"text-align: right;\">\n",
              "      <th></th>\n",
              "      <th>action</th>\n",
              "      <th>reward</th>\n",
              "    </tr>\n",
              "  </thead>\n",
              "  <tbody>\n",
              "    <tr>\n",
              "      <th>0</th>\n",
              "      <td>0</td>\n",
              "      <td>1.575207</td>\n",
              "    </tr>\n",
              "    <tr>\n",
              "      <th>1</th>\n",
              "      <td>1</td>\n",
              "      <td>0.000000</td>\n",
              "    </tr>\n",
              "    <tr>\n",
              "      <th>2</th>\n",
              "      <td>2</td>\n",
              "      <td>0.000000</td>\n",
              "    </tr>\n",
              "    <tr>\n",
              "      <th>3</th>\n",
              "      <td>0</td>\n",
              "      <td>1.804006</td>\n",
              "    </tr>\n",
              "    <tr>\n",
              "      <th>4</th>\n",
              "      <td>1</td>\n",
              "      <td>0.432083</td>\n",
              "    </tr>\n",
              "  </tbody>\n",
              "</table>\n",
              "</div>"
            ],
            "text/plain": [
              "   action    reward\n",
              "0       0  1.575207\n",
              "1       1  0.000000\n",
              "2       2  0.000000\n",
              "3       0  1.804006\n",
              "4       1  0.432083"
            ]
          },
          "execution_count": 91,
          "metadata": {},
          "output_type": "execute_result"
        }
      ],
      "source": [
        "# YOUR CHANGES HERE\n",
        "\n",
        "history = run_ucb1(seed=2025002, T=1000, B=9.0)\n",
        "history.to_csv(\"history.tsv\", sep=\"\\t\", index=False, float_format=\"%.6f\")\n",
        "print(f\"Saved history.tsv with {len(history)} rows.\")\n",
        "history.head()"
      ]
    },
    {
      "cell_type": "markdown",
      "metadata": {
        "id": "fwm-1x3mrfXu"
      },
      "source": [
        "Submit \"history.tsv\" in Gradescope."
      ]
    },
    {
      "cell_type": "markdown",
      "metadata": {
        "id": "xc0xYgCzrmGj"
      },
      "source": [
        "## Part 3: Action Statistics\n",
        "\n",
        "Based on the data from part 2, estimate the expected reward for each arm and write a file \"actions.tsv\" with the columns arm, min_reward, mean_reward, max_reward."
      ]
    },
    {
      "cell_type": "code",
      "execution_count": 92,
      "metadata": {
        "id": "a-uAbY03sFna"
      },
      "outputs": [
        {
          "name": "stdout",
          "output_type": "stream",
          "text": [
            " actions.tsv with 3 rows.\n"
          ]
        },
        {
          "data": {
            "text/html": [
              "<div>\n",
              "<style scoped>\n",
              "    .dataframe tbody tr th:only-of-type {\n",
              "        vertical-align: middle;\n",
              "    }\n",
              "\n",
              "    .dataframe tbody tr th {\n",
              "        vertical-align: top;\n",
              "    }\n",
              "\n",
              "    .dataframe thead th {\n",
              "        text-align: right;\n",
              "    }\n",
              "</style>\n",
              "<table border=\"1\" class=\"dataframe\">\n",
              "  <thead>\n",
              "    <tr style=\"text-align: right;\">\n",
              "      <th></th>\n",
              "      <th>action</th>\n",
              "      <th>min_reward</th>\n",
              "      <th>mean_reward</th>\n",
              "      <th>max_reward</th>\n",
              "    </tr>\n",
              "  </thead>\n",
              "  <tbody>\n",
              "    <tr>\n",
              "      <th>0</th>\n",
              "      <td>0</td>\n",
              "      <td>0.0</td>\n",
              "      <td>0.597758</td>\n",
              "      <td>3.761461</td>\n",
              "    </tr>\n",
              "    <tr>\n",
              "      <th>1</th>\n",
              "      <td>1</td>\n",
              "      <td>0.0</td>\n",
              "      <td>0.531647</td>\n",
              "      <td>2.988922</td>\n",
              "    </tr>\n",
              "    <tr>\n",
              "      <th>2</th>\n",
              "      <td>2</td>\n",
              "      <td>0.0</td>\n",
              "      <td>0.176597</td>\n",
              "      <td>0.966617</td>\n",
              "    </tr>\n",
              "  </tbody>\n",
              "</table>\n",
              "</div>"
            ],
            "text/plain": [
              "   action  min_reward  mean_reward  max_reward\n",
              "0       0         0.0     0.597758    3.761461\n",
              "1       1         0.0     0.531647    2.988922\n",
              "2       2         0.0     0.176597    0.966617"
            ]
          },
          "execution_count": 92,
          "metadata": {},
          "output_type": "execute_result"
        }
      ],
      "source": [
        "# YOUR CHANGES HERE\n",
        "\n",
        "\n",
        "import pandas as pd\n",
        "import numpy as np\n",
        "\n",
        "HIST_FILE = \"history.tsv\"\n",
        "OUT_FILE  = \"actions.tsv\"\n",
        "\n",
        "hist = pd.read_csv(HIST_FILE, sep=\"\\t\")\n",
        "assert {\"action\", \"reward\"}.issubset(hist.columns)\n",
        "\n",
        "try:\n",
        "    K = BanditProblem(2025002).get_num_arms()  \n",
        "except NameError:\n",
        "    K = 3\n",
        "\n",
        "summary = (\n",
        "    hist.groupby(\"action\")[\"reward\"]\n",
        "        .agg(min_reward=\"min\", mean_reward=\"mean\", max_reward=\"max\")\n",
        "        .reset_index()\n",
        ")\n",
        "\n",
        "full = pd.DataFrame({\"action\": np.arange(K)})\n",
        "summary = full.merge(summary, on=\"action\", how=\"left\").fillna(0.0).sort_values(\"action\")\n",
        "\n",
        "summary.to_csv(OUT_FILE, sep=\"\\t\", index=False, float_format=\"%.6f\")\n",
        "print(f\" {OUT_FILE} with {len(summary)} rows.\")\n",
        "summary\n"
      ]
    },
    {
      "cell_type": "markdown",
      "metadata": {
        "id": "kk8s1hpEsHWX"
      },
      "source": [
        "Submit \"actions.tsv\" in Gradescope."
      ]
    },
    {
      "cell_type": "markdown",
      "metadata": {
        "id": "asaIrLTtsKEv"
      },
      "source": [
        "## Part 4: Regret Estimates\n",
        "\n",
        "Calculate the expected regret taking 1000 actions with the following strategies.\n",
        "\n",
        "* uniform: Pick an arm uniformly at random.\n",
        "* just-i: Always pick arm $i$. Do this for $i=0$ to $K-1$ where $K$ is the number of arms.\n",
        "* actual: This should match your output in part 2."
      ]
    },
    {
      "cell_type": "code",
      "execution_count": 93,
      "metadata": {
        "id": "LgCSJKDmso5a"
      },
      "outputs": [],
      "source": [
        "# YOUR CHANGES HERE\n",
        "\n",
        "\n",
        "import pandas as pd\n",
        "import numpy as np\n",
        "\n",
        "T = 1000\n",
        "ACTIONS_FILE = \"actions.tsv\"\n",
        "HIST_FILE    = \"history.tsv\"\n",
        "OUT_FILE     = \"strategies.tsv\"\n",
        "\n",
        "actions = pd.read_csv(ACTIONS_FILE, sep=\"\\t\")\n",
        "assert {\"action\", \"mean_reward\"}.issubset(actions.columns)\n",
        "\n",
        "mu_per_arm = actions.set_index(\"action\")[\"mean_reward\"].to_dict()\n",
        "K = len(mu_per_arm)\n",
        "mu_star = max(mu_per_arm.values())\n",
        "mu_mean = sum(mu_per_arm.values()) / K\n",
        "\n",
        "rows = []\n",
        "\n",
        "rows.append({\"strategy\": \"uniform\", \"regret\": T * (mu_star - mu_mean)})\n",
        "\n",
        "for i in range(K):\n",
        "    rows.append({\"strategy\": f\"just-{i}\", \"regret\": T * (mu_star - mu_per_arm[i])})\n",
        "\n"
      ]
    },
    {
      "cell_type": "markdown",
      "metadata": {
        "id": "ncXs2IqPsqQO"
      },
      "source": [
        "Write your results to a file \"strategies.tsv\" with the columns strategy and regret."
      ]
    },
    {
      "cell_type": "code",
      "execution_count": 94,
      "metadata": {
        "id": "GlYK-oCUtyFm"
      },
      "outputs": [
        {
          "name": "stdout",
          "output_type": "stream",
          "text": [
            "Saved strategies.tsv with 5 rows.\n"
          ]
        },
        {
          "data": {
            "text/html": [
              "<div>\n",
              "<style scoped>\n",
              "    .dataframe tbody tr th:only-of-type {\n",
              "        vertical-align: middle;\n",
              "    }\n",
              "\n",
              "    .dataframe tbody tr th {\n",
              "        vertical-align: top;\n",
              "    }\n",
              "\n",
              "    .dataframe thead th {\n",
              "        text-align: right;\n",
              "    }\n",
              "</style>\n",
              "<table border=\"1\" class=\"dataframe\">\n",
              "  <thead>\n",
              "    <tr style=\"text-align: right;\">\n",
              "      <th></th>\n",
              "      <th>strategy</th>\n",
              "      <th>regret</th>\n",
              "    </tr>\n",
              "  </thead>\n",
              "  <tbody>\n",
              "    <tr>\n",
              "      <th>0</th>\n",
              "      <td>uniform</td>\n",
              "      <td>162.42400</td>\n",
              "    </tr>\n",
              "    <tr>\n",
              "      <th>1</th>\n",
              "      <td>just-0</td>\n",
              "      <td>0.00000</td>\n",
              "    </tr>\n",
              "    <tr>\n",
              "      <th>2</th>\n",
              "      <td>just-1</td>\n",
              "      <td>66.11100</td>\n",
              "    </tr>\n",
              "    <tr>\n",
              "      <th>3</th>\n",
              "      <td>just-2</td>\n",
              "      <td>421.16100</td>\n",
              "    </tr>\n",
              "    <tr>\n",
              "      <th>4</th>\n",
              "      <td>actual</td>\n",
              "      <td>129.15599</td>\n",
              "    </tr>\n",
              "  </tbody>\n",
              "</table>\n",
              "</div>"
            ],
            "text/plain": [
              "  strategy     regret\n",
              "0  uniform  162.42400\n",
              "1   just-0    0.00000\n",
              "2   just-1   66.11100\n",
              "3   just-2  421.16100\n",
              "4   actual  129.15599"
            ]
          },
          "execution_count": 94,
          "metadata": {},
          "output_type": "execute_result"
        }
      ],
      "source": [
        "# YOUR CHANGES HERE\n",
        "\n",
        "hist = pd.read_csv(HIST_FILE, sep=\"\\t\")\n",
        "assert {\"action\", \"reward\"}.issubset(hist.columns)\n",
        "real_total = hist[\"reward\"].sum()\n",
        "rows.append({\"strategy\": \"actual\", \"regret\": T * mu_star - real_total})\n",
        "\n",
        "strategies = pd.DataFrame(rows)\n",
        "strategies.to_csv(OUT_FILE, sep=\"\\t\", index=False, float_format=\"%.6f\")\n",
        "print(f\"Saved {OUT_FILE} with {len(strategies)} rows.\")\n",
        "strategies\n"
      ]
    },
    {
      "cell_type": "markdown",
      "metadata": {
        "id": "bNs9BJCvtz2N"
      },
      "source": [
        "Submit \"strategies.tsv\" in Gradescope."
      ]
    },
    {
      "cell_type": "markdown",
      "metadata": {
        "id": "lopxdy3lsysb"
      },
      "source": [
        "## Part 5: Acknowledgments\n",
        "\n",
        "Make a file \"acknowledgments.txt\" documenting any outside sources or help on this project.\n",
        "If you discussed this assignment with anyone, please acknowledge them here.\n",
        "If you used any libraries not mentioned in this module's content, please list them with a brief explanation what you used them for.\n",
        "If you used any generative AI tools, please add links to your transcripts below, and any other information that you feel is necessary to comply with the generative AI policy.\n",
        "If no acknowledgements are appropriate, just write none in the file.\n"
      ]
    },
    {
      "cell_type": "markdown",
      "metadata": {
        "id": "H8-GaDpOw06W"
      },
      "source": [
        "Submit \"acknowledgments.txt\" in Gradescope."
      ]
    },
    {
      "cell_type": "code",
      "execution_count": 95,
      "metadata": {},
      "outputs": [
        {
          "name": "stdout",
          "output_type": "stream",
          "text": [
            " acknowledgments.txt\n"
          ]
        }
      ],
      "source": [
        "from textwrap import dedent\n",
        "\n",
        "ack = dedent(\"\"\"\\\n",
        "Acknowledgments\n",
        "\n",
        "\n",
        "The Libraries/Tools used \n",
        "- NumPy — arrays and random number generation.\n",
        "- Pandas — reading/writing TSV files and simple summaries.\n",
        "- Matplotlib — quick histograms to inspect reward distributions.\n",
        "\n",
        "Data\n",
        "- I used the course provided files \n",
        "- Also course example notebooks (dx601/dx602/dx603/dx704) for general patterns and review .\n",
        "\n",
        "\n",
        "People/Collaboration\n",
        "- I discussed this assignment with no one and did not use any additional sources beyond the course materials,\n",
        "other than occasional Google searches to help understand concepts covered in class. \n",
        "\n",
        "\"\"\")\n",
        "\n",
        "with open(\"acknowledgments.txt\", \"w\", encoding=\"utf-8\") as f:\n",
        "    f.write(ack)\n",
        "\n",
        "print(\" acknowledgments.txt\")"
      ]
    },
    {
      "cell_type": "markdown",
      "metadata": {
        "id": "_AR_XyZi8N_Q"
      },
      "source": [
        "## Part 6: Code\n",
        "\n",
        "Please submit a Jupyter notebook that can reproduce all your calculations and recreate the previously submitted files."
      ]
    },
    {
      "cell_type": "markdown",
      "metadata": {
        "id": "oXhGo_008M-b"
      },
      "source": [
        "Submit \"project.ipynb\" in Gradescope."
      ]
    }
  ],
  "metadata": {
    "colab": {
      "toc_visible": false
    },
    "kernelspec": {
      "display_name": "Python 3",
      "name": "python3"
    },
    "language_info": {
      "codemirror_mode": {
        "name": "ipython",
        "version": 3
      },
      "file_extension": ".py",
      "mimetype": "text/x-python",
      "name": "python",
      "nbconvert_exporter": "python",
      "pygments_lexer": "ipython3",
      "version": "3.12.1"
    }
  },
  "nbformat": 4,
  "nbformat_minor": 0
}
